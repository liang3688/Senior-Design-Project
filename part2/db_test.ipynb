{
 "cells": [
  {
   "cell_type": "markdown",
   "id": "811e275d-178b-493a-a790-736983c4747d",
   "metadata": {},
   "source": [
    "## TEST AND CHECK DATABASE IF DOWNLOADED PROPERLY USING SOME QUERIES "
   ]
  },
  {
   "cell_type": "code",
   "execution_count": null,
   "id": "bb8eef00-28df-4a70-938a-44d4e1488443",
   "metadata": {},
   "outputs": [],
   "source": [
    "import json\n",
    "import mysql.connector\n",
    "from mysql.connector.cursor import MySQLCursor"
   ]
  },
  {
   "cell_type": "code",
   "execution_count": null,
   "id": "b619d80b-7509-4c5d-be91-6ebe1c5aeb00",
   "metadata": {},
   "outputs": [],
   "source": [
    "CONFIG_PATH = \"/home/ubuntu/final_submit/part2/config.json\""
   ]
  },
  {
   "cell_type": "code",
   "execution_count": null,
   "id": "a50b532b-3c38-404f-b19e-5944acef2ef5",
   "metadata": {},
   "outputs": [],
   "source": [
    "# Read MySQL username, password, schema from configuration file\n",
    "with open(CONFIG_PATH, \"r\") as f:\n",
    "    jobj        = json.load(f)\n",
    "    MYSQL_USER  = jobj[\"mysql_user\"]\n",
    "    MYSQL_PWD   = jobj[\"mysql_pwd\"]\n",
    "    MYSQL_DB    = jobj[\"mysql_db\"]\n",
    "   \n",
    "assert MYSQL_USER\n",
    "assert MYSQL_PWD\n",
    "assert MYSQL_DB\n",
    "\n",
    "# Open connection to MySQL\n",
    "conn = mysql.connector.connect(user=MYSQL_USER, \n",
    "                               password=MYSQL_PWD,\n",
    "                               host=\"localhost\",\n",
    "                               database=MYSQL_DB)\n",
    "\n",
    "cursor = conn.cursor()"
   ]
  },
  {
   "cell_type": "code",
   "execution_count": null,
   "id": "94b0a5e7-b300-4ccd-9f3e-7580293e3f6a",
   "metadata": {},
   "outputs": [],
   "source": [
    "# return a movie  user sentiment score \n",
    "movie_id = int(input(\"Please enter a movie id:\"))\n",
    "\n",
    "query = f\"SELECT count(*) , sum(ur.polarity) \" \\\n",
    "        f\"FROM reviews r, user_reviews ur \" \\\n",
    "        f\"WHERE r.movie_id  = {movie_id} \"  \\\n",
    "        f\" AND r.review_id = ur.review_id\"\n",
    "\n",
    "cursor.execute(query)\n",
    "\n",
    "#\n",
    "num_reviews, polarity_sum = cursor.fetchone()\n",
    "\n",
    "print(num_reviews)\n",
    "print(polarity_sum)\n",
    "\n",
    "movie_polarity = round((polarity_sum/num_reviews), 3)\n",
    "\n",
    "print(f\"user polarity = {movie_polarity}\")\n",
    "\n",
    "if(movie_polarity > .3):\n",
    "    print (f\"Positive review :) \")\n",
    "elif(movie_polarity > - .3):\n",
    "    print(f\"Neutral review :| \")  \n",
    "else:\n",
    "    print(f\"Negative review :( \")\n",
    "    "
   ]
  },
  {
   "cell_type": "code",
   "execution_count": null,
   "id": "d83287fe-b521-4e9a-8795-51051430ff26",
   "metadata": {},
   "outputs": [],
   "source": [
    "# find total movie count\n",
    "query = (f\"SELECT count(*) \"\n",
    "         f\"FROM movies\")\n",
    "\n",
    "cursor.execute(query)\n",
    "\n",
    "print(f\"Total number of movies: {cursor.fetchone()[0]}\\n\")"
   ]
  },
  {
   "cell_type": "code",
   "execution_count": null,
   "id": "76b2da56-b8c4-4e50-97e8-1302b1cfa573",
   "metadata": {},
   "outputs": [],
   "source": [
    "# find total actors count\n",
    "query = (f\"SELECT count(*) \"\n",
    "         f\"FROM actors\")\n",
    "\n",
    "cursor.execute(query)\n",
    "\n",
    "print(f\"Total number of actors: {cursor.fetchone()[0]}\\n\")"
   ]
  },
  {
   "cell_type": "code",
   "execution_count": null,
   "id": "1d87f446-20ce-48bd-99e7-a3c0f1177876",
   "metadata": {},
   "outputs": [],
   "source": [
    "# find total directors count\n",
    "query = (f\"SELECT count(*) \"\n",
    "         f\"FROM directors\")\n",
    "\n",
    "cursor.execute(query)\n",
    "\n",
    "print(f\"Total number of directors: {cursor.fetchone()[0]}\\n\")"
   ]
  },
  {
   "cell_type": "code",
   "execution_count": null,
   "id": "aac1b571-5016-4f4b-8d1f-bd56ea4ba0c0",
   "metadata": {},
   "outputs": [],
   "source": [
    "# find total user reviews count\n",
    "query = (f\"SELECT count(*) \"\n",
    "         f\"FROM user_reviews\")\n",
    "\n",
    "cursor.execute(query)\n",
    "\n",
    "print(f\"Total number of user reviews: {cursor.fetchone()[0]}\\n\")"
   ]
  },
  {
   "cell_type": "code",
   "execution_count": null,
   "id": "a499e3ca-af6d-4530-a2c2-7e12e2401758",
   "metadata": {},
   "outputs": [],
   "source": [
    "# find total user critic reviews count\n",
    "query = (f\"SELECT count(*) \"\n",
    "         f\"FROM critique\")\n",
    "\n",
    "cursor.execute(query)\n",
    "\n",
    "print(f\"Total number of critic reviews: {cursor.fetchone()[0]}\\n\")"
   ]
  },
  {
   "cell_type": "code",
   "execution_count": null,
   "id": "492de580-88c9-4c6b-91b2-c6514efc404e",
   "metadata": {},
   "outputs": [],
   "source": [
    "# list of all movie genres in the database:\n",
    "query = (f\"SELECT g.genre_id, g.genre_type \"\n",
    "         f\"FROM genres g \" \n",
    "         f\"ORDER BY g.genre_type ASC\")\n",
    "\n",
    "cursor.execute(query)\n",
    "\n",
    "num = 1\n",
    "print(f\"Num | id | movie genre\")\n",
    "for row in cursor.fetchall():\n",
    "    print(f\"{num:2d})   {row[0]:2d}   {row[1]}\")\n",
    "    num = num + 1"
   ]
  },
  {
   "cell_type": "code",
   "execution_count": null,
   "id": "741556c0-25dc-4370-b217-e24dc30097c0",
   "metadata": {},
   "outputs": [],
   "source": [
    "# Find actor names for a given movie title\n",
    "title = input(\"Please enter movie title: \")\n",
    "\n",
    "query = (f\"SELECT a.actor_id, a.name \" \n",
    "         f\"FROM movies m, plays_in p, actors a \" \n",
    "         f\"WHERE m.title = \\'{title}\\' \" \n",
    "         f\" AND m.movie_id = p.movie_id \"  \n",
    "         f\"AND p.actor_id = a.actor_id \"  \n",
    "         f\"ORDER BY a.name ASC\")\n",
    "\n",
    "cursor.execute(query)\n",
    "\n",
    "num = 1\n",
    "print(\"\\nNum | id    | Actor name:\")\n",
    "for row in cursor.fetchall():\n",
    "    print(f\"{num:2d})  {row[0]:5d}    {row[1]}\")\n",
    "    num = num + 1"
   ]
  },
  {
   "cell_type": "code",
   "execution_count": null,
   "id": "bcd1288e-2aff-431b-9682-ac300c8363dc",
   "metadata": {},
   "outputs": [],
   "source": [
    "# Find director names for a given movie title\n",
    "title = input(\"Please enter movie title:\")\n",
    "\n",
    "query = (f\"SELECT d.director_id, d.name \"\n",
    "         f\"FROM movies m, directed dir, directors d \" \n",
    "         f\"WHERE m.title = \\'{title}\\' \" \n",
    "         f\" AND m.movie_id = dir.movie_id \"  \n",
    "         f\"AND dir.director_id = d.director_id \"  \n",
    "         f\"ORDER BY d.name ASC\")\n",
    "        \n",
    "cursor.execute(query)\n",
    "\n",
    "num = 1\n",
    "print(\"\\nNum | id    | Director name:\")\n",
    "for row in cursor.fetchall():\n",
    "    print(f\"{num:2d})  {row[0]:5d}    {row[1]}\")\n",
    "    num = num + 1"
   ]
  },
  {
   "cell_type": "code",
   "execution_count": null,
   "id": "31b5843a-514f-423d-814b-7b6a0080da9d",
   "metadata": {},
   "outputs": [],
   "source": [
    "# Find movies of a given genre\n",
    "genre = input(\"Please enter a movie genre:\")\n",
    "count = int(input(\"Please enter how many movies to display:\"))\n",
    "\n",
    "query = (f\"SELECT m.title, m.movie_id \" \n",
    "         f\"FROM movies m, movie_genre mg, genres g \" \n",
    "         f\"WHERE g.genre_type = \\'{genre}\\' \" \n",
    "         f\" AND m.movie_id = mg.movie_id \"  \n",
    "         f\"AND mg.genre_id = g.genre_id \"  \n",
    "         f\"ORDER BY m.title ASC\")\n",
    "\n",
    "cursor.execute(query)\n",
    "\n",
    "num = 1\n",
    "print(f\"\\nList of {count} {genre} movies:\")\n",
    "for row in cursor.fetchall():\n",
    "    print(f\"{num:5d}) movie id = {row[1]:5d}  {row[0]}\")\n",
    "    num = num + 1\n",
    "    if(num > count):\n",
    "        break"
   ]
  },
  {
   "cell_type": "code",
   "execution_count": null,
   "id": "3319744c-c203-4604-b579-0e6152dedd76",
   "metadata": {},
   "outputs": [],
   "source": [
    "# Find all movie titles where a given actor played in \n",
    "name  = input(\"Please enter an actor name:\")\n",
    "count = int(input(\"Please enter how many movies to display:\"))\n",
    "\n",
    "query = (f\"SELECT m.title, m.movie_id \" \n",
    "         f\"FROM movies m, plays_in p, actors a \" \n",
    "         f\"WHERE a.name = \\'{name}\\' \" \n",
    "         f\" AND m.movie_id = p.movie_id \"  \n",
    "         f\"AND p.actor_id = a.actor_id \"  \n",
    "         f\"ORDER BY m.title ASC\")\n",
    "\n",
    "cursor.execute(query)\n",
    "\n",
    "num = 1\n",
    "print(f\"\\nList of up to {count} \\\"{name}\\\" movies:\")\n",
    "for row in cursor.fetchall():\n",
    "    print(f\"{num:3d} id = {row[1]:5d} {row[0]}\")\n",
    "    num = num + 1\n",
    "    if(num > count):\n",
    "        break"
   ]
  },
  {
   "cell_type": "code",
   "execution_count": null,
   "id": "b35e89c2-1afc-48aa-bfad-c5c6b773265f",
   "metadata": {},
   "outputs": [],
   "source": [
    "# Find all movie titles of a given director \n",
    "name  = input(\"Please enter a director name:\")\n",
    "count = int(input(\"Please enter how many movies to display:\"))\n",
    "\n",
    "query = (f\"SELECT m.title, m.movie_id \" \n",
    "         f\"FROM movies m, directed dir, directors d \" \n",
    "         f\"WHERE d.name = \\'{name}\\' \" \n",
    "         f\" AND m.movie_id = dir.movie_id \"  \n",
    "         f\"AND dir.director_id = d.director_id \"  \n",
    "         f\"ORDER BY m.title ASC\")\n",
    "\n",
    "cursor.execute(query)\n",
    "\n",
    "num = 1\n",
    "print(f\"\\nList of up to {count} movies directed by {name}:\")\n",
    "for row in cursor.fetchall():\n",
    "    print(f\"{num:3d}) id = {row[1]:5d}  {row[0]}\")\n",
    "    num = num + 1\n",
    "    if(num > count):\n",
    "        break"
   ]
  },
  {
   "cell_type": "code",
   "execution_count": null,
   "id": "b95b0836-66bf-4717-90fc-8c95ab7540d7",
   "metadata": {},
   "outputs": [],
   "source": [
    "# Find all movie titles of a given distributor\n",
    "distributor  = input(\"Please enter a distributor name:\")\n",
    "count        = int(input(\"Please enter how many movies to display:\"))\n",
    "\n",
    "query = (f\"SELECT m.movie_id, m.title \" \n",
    "         f\"FROM movies m \" \n",
    "         f\"WHERE m.distributor = \\'{distributor}\\' \"   \n",
    "         f\"ORDER BY m.title ASC\")\n",
    "\n",
    "cursor.execute(query)\n",
    "\n",
    "num = 1\n",
    "print(f\"\\nList of up to {count} movies distributed by {distributor}:\")\n",
    "print(f\" Num  | id   | movie title\")\n",
    "for row in cursor.fetchall():\n",
    "    print(f\"{num:4d})  {row[0]:5d}   {row[1]}\")\n",
    "    num = num + 1\n",
    "    if(num > count):\n",
    "        break"
   ]
  },
  {
   "cell_type": "code",
   "execution_count": null,
   "id": "5ba678ce-dc4e-468f-899e-dd22fad51215",
   "metadata": {},
   "outputs": [],
   "source": [
    "# Find all reviews of a given movie by title \n",
    "title  = input(\"Please enter a movie name:\")\n",
    "count = int(input(\"Please enter how many user reviews to display:\"))\n",
    "\n",
    "query = (f\"SELECT ur.username, ur.u_score, ur.u_review , ur.polarity \" \n",
    "         f\"FROM movies m, reviews r, user_reviews ur \" \n",
    "         f\"WHERE m.title = \\'{title}\\' \" \n",
    "         f\" AND m.movie_id = r.movie_id \"  \n",
    "         f\"AND r.review_id = ur.review_id \"  \n",
    "         f\"ORDER BY ur.u_score DESC\")\n",
    "\n",
    "cursor.execute(query)\n",
    "\n",
    "num = 1\n",
    "print(f\"\\nList of up to {count} user reviews given for \\\"{title}\\\" movie:\")\n",
    "for row in cursor.fetchall():\n",
    "    print(f\"\\n{num}) username: {row[0]}, score: {row[1]}, polarity:{row[3]}\")\n",
    "    print(f\"User Review:\\n{row[2]}\")\n",
    "    \n",
    "    num = num + 1\n",
    "    if(num > count):\n",
    "        break"
   ]
  },
  {
   "cell_type": "code",
   "execution_count": null,
   "id": "ea06f068-e3dc-447e-8021-6da1acd8ce31",
   "metadata": {},
   "outputs": [],
   "source": [
    "# Find all critic reviews of a given movie by title \n",
    "title  = input(\"Please enter a movie name:\")\n",
    "count = int(input(\"Please enter how many critic reviews to display:\"))\n",
    "\n",
    "query = (f\"SELECT cr.c_score, cr.c_review , cr.polarity \" \n",
    "         f\"FROM movies m, critique c, critic_reviews cr \" \n",
    "         f\"WHERE m.title = \\'{title}\\' \" \n",
    "         f\" AND m.movie_id = c.movie_id \"  \n",
    "         f\"AND c.critic_id = cr.critic_id \"  \n",
    "         f\"ORDER BY cr.polarity DESC\")\n",
    "\n",
    "cursor.execute(query)\n",
    "\n",
    "num = 1\n",
    "print(f\"\\nList of up to {count} critic reviews given for \\\"{title}\\\" movie:\")\n",
    "for row in cursor.fetchall():\n",
    "    print(f\"\\n{num}) score: {row[0]} polarity:{row[2]}\")\n",
    "    print(f\"Critic Review:\\n{row[1]}\")\n",
    "\n",
    "    num = num + 1\n",
    "    if(num > count):\n",
    "        break"
   ]
  },
  {
   "cell_type": "code",
   "execution_count": null,
   "id": "e34fce64-12ee-4c04-a216-fc70b53440e7",
   "metadata": {},
   "outputs": [],
   "source": [
    "# 4 find urls of a movie using a movie_id (returned by earlier user movie selection)\n",
    "movie_id = int(input(\"Please enter a movie id:\"))\n",
    "\n",
    "query = (f\"SELECT sl.url \"\n",
    "         f\"FROM stream_links sl \"\n",
    "         f\"WHERE sl.movie_id = \\'{movie_id}\\' \")\n",
    "         \n",
    "cursor.execute(query)\n",
    "\n",
    "num = 1\n",
    "print(\"\\nURL:\")\n",
    "for row in cursor.fetchall():\n",
    "    print(f\"{num:2d})  {row[0]}\")\n",
    "    num = num + 1"
   ]
  },
  {
   "cell_type": "code",
   "execution_count": null,
   "id": "a4e8e59a-04b4-4805-9cd5-9daa9f7e0323",
   "metadata": {},
   "outputs": [],
   "source": [
    "# return an movie image given a movie id\n",
    "movie_id = int(input(\"Please enter a movie id:\"))\n",
    "\n",
    "query = (f\"SELECT image \"\n",
    "         f\"FROM   movies \"\n",
    "         f\"WHERE  movie_id = \\'{movie_id}\\' \")\n",
    "         \n",
    "cursor.execute(query)\n",
    "\n",
    "print(\"\\nMovie cover image:\")\n",
    "print(cursor.fetchone()[0])"
   ]
  },
  {
   "cell_type": "code",
   "execution_count": null,
   "id": "af7ad18e-20bd-4fcc-940c-d1aae21181ef",
   "metadata": {},
   "outputs": [],
   "source": [
    "# close the cursor and the connection \n",
    "cursor.close()\n",
    "conn.close()"
   ]
  },
  {
   "cell_type": "code",
   "execution_count": null,
   "id": "7c083520-c2a9-4aac-ad2c-42839ae6300d",
   "metadata": {},
   "outputs": [],
   "source": []
  }
 ],
 "metadata": {
  "kernelspec": {
   "display_name": "Python 3 (ipykernel)",
   "language": "python",
   "name": "python3"
  },
  "language_info": {
   "codemirror_mode": {
    "name": "ipython",
    "version": 3
   },
   "file_extension": ".py",
   "mimetype": "text/x-python",
   "name": "python",
   "nbconvert_exporter": "python",
   "pygments_lexer": "ipython3",
   "version": "3.8.10"
  }
 },
 "nbformat": 4,
 "nbformat_minor": 5
}
